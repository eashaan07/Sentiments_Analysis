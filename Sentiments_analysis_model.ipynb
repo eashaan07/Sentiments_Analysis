{
  "nbformat": 4,
  "nbformat_minor": 0,
  "metadata": {
    "colab": {
      "provenance": []
    },
    "kernelspec": {
      "name": "python3",
      "display_name": "Python 3"
    },
    "language_info": {
      "name": "python"
    }
  },
  "cells": [
    {
      "cell_type": "code",
      "execution_count": 1,
      "metadata": {
        "colab": {
          "base_uri": "https://localhost:8080/"
        },
        "id": "pr9LBeLggT5v",
        "outputId": "b70351e5-7bb8-43fa-e5fa-5cc534daf09a"
      },
      "outputs": [
        {
          "output_type": "stream",
          "name": "stderr",
          "text": [
            "<ipython-input-1-040681f8cadd>:12: FutureWarning: The default value of regex will change from True to False in a future version.\n",
            "  df['Review'] = df['Review'].str.replace('[^\\w\\s]', '')\n"
          ]
        },
        {
          "output_type": "stream",
          "name": "stdout",
          "text": [
            "Accuracy: 0.06108953500577306\n",
            "Precision: 0.7102998127206333\n",
            "Recall: 0.06108953500577306\n",
            "F1-score: 0.11250320062542855\n",
            "Confusion Matrix: \n",
            "[[   0    0    0]\n",
            " [7371  582    0]\n",
            " [1472  102    0]]\n"
          ]
        },
        {
          "output_type": "stream",
          "name": "stderr",
          "text": [
            "/usr/local/lib/python3.9/dist-packages/sklearn/metrics/_classification.py:1344: UndefinedMetricWarning: Precision is ill-defined and being set to 0.0 in labels with no predicted samples. Use `zero_division` parameter to control this behavior.\n",
            "  _warn_prf(average, modifier, msg_start, len(result))\n",
            "/usr/local/lib/python3.9/dist-packages/sklearn/metrics/_classification.py:1344: UndefinedMetricWarning: Recall is ill-defined and being set to 0.0 in labels with no true samples. Use `zero_division` parameter to control this behavior.\n",
            "  _warn_prf(average, modifier, msg_start, len(result))\n"
          ]
        }
      ],
      "source": [
        "# Import necessary libraries\n",
        "import pandas as pd\n",
        "from sklearn.feature_extraction.text import TfidfVectorizer\n",
        "from sklearn.naive_bayes import MultinomialNB\n",
        "from sklearn.metrics import accuracy_score, precision_score, recall_score, f1_score, confusion_matrix\n",
        "\n",
        "# Load the dataset into a pandas dataframe\n",
        "df = pd.read_csv('imbd_data.csv')\n",
        "\n",
        "# Clean the text data\n",
        "df['Review'] = df['Review'].str.replace('<br />', ' ')\n",
        "df['Review'] = df['Review'].str.replace('[^\\w\\s]', '')\n",
        "df['Review'] = df['Review'].str.lower()\n",
        "\n",
        "# Split the dataset into training and testing sets\n",
        "train_df = df[:40000]\n",
        "test_df = df[40000:]\n",
        "\n",
        "# Create a TF-IDF vectorizer object\n",
        "vectorizer = TfidfVectorizer(ngram_range=(1, 2))\n",
        "\n",
        "# Fit the vectorizer object on the training data\n",
        "X_train = vectorizer.fit_transform(train_df['Review'])\n",
        "y_train = train_df['sentiments']\n",
        "\n",
        "# Transform the testing data into TF-IDF vectors using the fitted vectorizer object\n",
        "X_test = vectorizer.transform(test_df['Review'])\n",
        "y_test = test_df['sentiments']\n",
        "\n",
        "# Create a Multinomial Naive Bayes object\n",
        "clf = MultinomialNB()\n",
        "\n",
        "# Fit the model object on the training data\n",
        "clf.fit(X_train, y_train)\n",
        "\n",
        "# Predict the sentiment of the testing data\n",
        "y_pred = clf.predict(X_test)\n",
        "\n",
        "# Evaluate the model performance on the testing data\n",
        "acc = accuracy_score(y_test, y_pred)\n",
        "prec = precision_score(y_test, y_pred, average='weighted')\n",
        "rec = recall_score(y_test, y_pred, average='weighted')\n",
        "f1 = f1_score(y_test, y_pred, average='weighted')\n",
        "cm = confusion_matrix(y_test, y_pred)\n",
        "\n",
        "# Print the results\n",
        "print(f\"Accuracy: {acc}\")\n",
        "print(f\"Precision: {prec}\")\n",
        "print(f\"Recall: {rec}\")\n",
        "print(f\"F1-score: {f1}\")\n",
        "print(f\"Confusion Matrix: \\n{cm}\")\n"
      ]
    }
  ]
}